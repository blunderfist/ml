{
 "cells": [
  {
   "cell_type": "markdown",
   "id": "f11b0be7",
   "metadata": {},
   "source": [
    "# Whitening Data\n",
    "\n",
    "Whitening data referes to decorrelating it and giving it a unit variance (usually a variance = 1). This can be important for many data analysis tasks and preprocessing (such as for independent component analysis).\n",
    "\n",
    "## How to whiten data\n",
    "\n",
    "Before whitening the data it is important to center it. This can be done by simply subtracting the mean from the data.\n",
    "\n",
    "$X = X - \\bar{X}$ with $\\bar{X}$ being the mean\n",
    "\n",
    "With the data centered the next step is to obtain the eigenvalues and eigenvectors. This can be done with python either getting the eigenvalues and eigenvectors directly through say numpy's eig() function, or using singular value decomposition, which can require less computational power.\n",
    "\n",
    "We'll refer to the whitened data as $\\tilde{X}$, where $\\tilde{X} = ED^{-\\frac{1}{2}}E^TX$\n",
    "- $E[XX^T]=EDE^T$\n",
    "- $E$ is the eigenvectors\n",
    "- $D$ is the diagonal matrix of egienvalues"
   ]
  },
  {
   "cell_type": "markdown",
   "id": "193bd8d0",
   "metadata": {},
   "source": [
    "$EDE^T = \n",
    "\\begin{bmatrix}\n",
    "| && | && \\dots && | \\\\ \n",
    "e_1 && e_2 && \\dots && e_n \\\\\n",
    "| && | && \\dots && | \\\\\n",
    "\\end{bmatrix}\n",
    "\\begin{bmatrix}\n",
    "\\lambda_1 && 0 && \\dots && 0 \\\\ \n",
    "0 && \\lambda_2 && \\dots && 0 \\\\\n",
    "\\vdots && \\dots && \\ddots && \\vdots \\\\\n",
    "0 && 0 && \\dots && \\lambda_n \\\\\n",
    "\\end{bmatrix}\n",
    "\\begin{bmatrix}\n",
    "- && e_1^T && - \\\\ \n",
    "- && e_2^T && - \\\\ \n",
    "\\vdots && \\vdots && \\vdots \\\\ \n",
    "- && e_n^T && - \\\\ \n",
    "\\end{bmatrix}$"
   ]
  },
  {
   "cell_type": "markdown",
   "id": "2b9888f5",
   "metadata": {},
   "source": [
    "How do we know if this worked? We can check that $E[\\tilde{x}\\tilde{x}^T]=I$"
   ]
  },
  {
   "cell_type": "markdown",
   "id": "9f46ffdb",
   "metadata": {},
   "source": [
    "## Proof $E[\\tilde{x}\\tilde{x}^T]=I$\n",
    "\n",
    "$$E[\\tilde{x}\\tilde{x}^T] = E[(ED^{-\\frac{1}{2}}E^TX)(ED^{-\\frac{1}{2}}E^TX)^T]$$\n",
    "$$ = E[ED^{-\\frac{1}{2}}E^TXX^TED^{-\\frac{1}{2}}E^T]$$\n",
    "$$ = ED^{-\\frac{1}{2}}E^TE[XX^T]ED^{-\\frac{1}{2}}E^T$$\n",
    "\n",
    "Note that $E^TE = I$ and $D^{-\\frac{1}{2}}DD^{-\\frac{1}{2}}=I$ so we can simplify this to\n",
    "\n",
    "$$ = EE^T = I$$"
   ]
  },
  {
   "cell_type": "markdown",
   "id": "31d8747b",
   "metadata": {},
   "source": [
    "## What is a benefit of whitening?\n",
    "\n",
    "With regards to ICA, the number of variables in the mixing matrix goes from $n^2$ to $\\frac{n(n-1)}{2}$"
   ]
  },
  {
   "cell_type": "code",
   "execution_count": null,
   "id": "baa416bb",
   "metadata": {},
   "outputs": [],
   "source": []
  }
 ],
 "metadata": {
  "kernelspec": {
   "display_name": "Python 3 (ipykernel)",
   "language": "python",
   "name": "python3"
  },
  "language_info": {
   "codemirror_mode": {
    "name": "ipython",
    "version": 3
   },
   "file_extension": ".py",
   "mimetype": "text/x-python",
   "name": "python",
   "nbconvert_exporter": "python",
   "pygments_lexer": "ipython3",
   "version": "3.11.1"
  }
 },
 "nbformat": 4,
 "nbformat_minor": 5
}
