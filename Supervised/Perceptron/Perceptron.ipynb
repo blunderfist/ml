{
 "cells": [
  {
   "cell_type": "markdown",
   "id": "22971b4b",
   "metadata": {},
   "source": [
    "# Perceptron\n",
    "\n",
    "This notebook uses a single perceptron to classify digits from the mnist hand written digit dataset."
   ]
  },
  {
   "cell_type": "markdown",
   "id": "01016313",
   "metadata": {},
   "source": [
    "A perceptron is one of the simplest building blocks of neural networks. In combination with additional perceptrons and multiple layers they allow us to construct deep learning models.\n",
    "\n",
    "A perceptron takes a weighted sum of inputs and passes them through an activation function. This function can really be anything, so for example, the identity function $f(x)=x$ just returns the weighted sum of inputs. In this notebook the perceptron's activation function will be the sign function, which will return either a -1 or a 1 depending on whether the value of the weighted sum of inputs is greater or less than or equal to zero. In neural networks, perceptrons commonly use non-linear activation functions, but that is beyond the scope of this notebook.\n",
    "\n",
    "## How the perceptron works\n",
    "\n",
    "Perceptrons work by taking inputs, multiplying each input value by a weight, adding a bias (just an extra weight) and passing that value through the activation function. The output of the activation function is compared to the desired output, and if necessary the weights are updated by the perceptron learning rule. This continues until the weights converge or the training is stopped. With a trained perceptron we can pass data into it and receive a classification as output.\n"
   ]
  },
  {
   "cell_type": "markdown",
   "id": "5faa0998",
   "metadata": {},
   "source": [
    "## The algorithm\n",
    "\n",
    "- Randomly initialize weights\n",
    "- Send the weighted sum of inputs (a flattened image in this notebook) through the perceptron, also known as the forward pass\n",
    "- Perform a backward pass where\n",
    "    - If the predicted output matches the desired output do nothing\n",
    "    - If the predicted output differs from the desired output, update the weights using the perceptron learning rule\n",
    "- Repeat until convergence or max interations\n",
    "\n",
    "It should be noted that if the data is not linearly separable the perceptron will never converge.\n",
    "\n",
    "## Perceptron Learning Rule\n",
    "\n",
    "The perceptron learning rule is very simple. It basically states that if the output is not what was desired, add a portion of the input to the weight and iterate until the desired outputs are obtained.\n",
    "\n",
    "$W_{n+1} = W_n + \\eta(y-\\hat{y})$\n",
    "\n",
    "$\\eta$ is the learning rate, or the portion of the input to the weights.\n",
    "\n",
    "$y$ is the desired output (the label)\n",
    "\n",
    "$\\hat{y}$ is the predicted output"
   ]
  },
  {
   "cell_type": "markdown",
   "id": "2952c22b",
   "metadata": {},
   "source": [
    "## Measuring performance\n",
    "\n",
    "The mean squared error is sufficient to measure performance for a single perceptron, but there are plenty of other methods available as well. The $MSE$ is written as $MSE = \\frac{1}{2n}\\sum_{i=1}^n(y-\\hat{y})^2$. The $2n$ term is optional and can just be $n$, however when working with neural networks the 2 is frequently seen as it simplifies the derivation and does not impact the result."
   ]
  },
  {
   "cell_type": "markdown",
   "id": "54c90e47",
   "metadata": {},
   "source": [
    "---\n",
    "## Notes on this notebook\n",
    "- The data contains images in the form of arrays and labels in the form of the digit the image represents\n",
    "- Each image is flattened then sent through the perceptron\n",
    "- The perceptron performs a binary classification task, either the image is correct (1) or wrong (-1)\n",
    "- The perceptron learning rule is used to update the weights\n",
    "- After enough iterations the model is able to successfully classify more images than it misclassifies (this isn't the best way to classify images, its a demo of how the perceptron can be used)\n",
    "- This notebook vectorizes the entire operation so instead of updating after each classification it updates after the entire training dataset has been passed through"
   ]
  },
  {
   "cell_type": "markdown",
   "id": "69d5a4cb",
   "metadata": {},
   "source": [
    "The steps for this model are as follows:\n",
    "1. Initialize the weights\n",
    " - We need a weight for every input plus a bias term\n",
    " - There are multiple ways to add the bias term, my prefered method is to just add it to the weighted sum of the inputs\n",
    " - ex: $WTX + b$ where $W$ is the weight vector, $X$ is the inputs, and $b$ is the bias term\n",
    " - Some people will add a 1 to the first element of the inputs and a weight for all inputs including this 1 value. The weight corresponding to the 1 is the bias term in this case.\n",
    "2. Send the inputs through the perceptron\n",
    " - The perceptron takes the inner product of the inputs and weights with the added bias\n",
    " - ex: $W^TX+b$ or $b + \\sum_{i=1}^N w_i^Tx_i$ depending on how you like to write these things\n",
    "3. The output is then put through the Sign function (slightly modified to only output -1 or 1)\n",
    " - The sign function takes a number and outputs a -1 when the input is < 0, or a 1 when the input is > 0\n",
    " - $sgn(z) = \\begin{cases}\n",
    "   > 0 & 1\\\\    \n",
    "   \\leq 0 & -1   \n",
    "\\end{cases}$\n",
    "4.  The label for the image (desired value) is then compared with the output and the weights are updated as necessary"
   ]
  },
  {
   "cell_type": "markdown",
   "id": "5b46bf73",
   "metadata": {},
   "source": [
    "## The algorithm\n",
    "\n",
    "- Randomly initialize weights $W$ as a column vector\n",
    "    - There will be a weight for every input\n",
    "    - The dimensions of $W$ will be $nx1$ where $n$ is the number of input values from $X$\n",
    "    - $W$'s values must be small to avoid issues during training, so $0 \\leq w_i \\leq 1$ for all values in $W$\n",
    "- Randomly initialize the bias $b$\n",
    "    - There will be a single bias for the perceptron\n",
    "    - Just like with $W$ above, $b$ is a weight and should satisfy $0 \\leq b \\leq 1$\n",
    "    - See notes below on initializing weights and bias\n",
    "- Send the weighted sum of inputs $X$ (a flattened image as a column vector) through the perceptron, also known as the forward pass\n",
    "    - The weighted sum $Z = W^TX+b$\n",
    "    - Or or $Z = b + \\sum_{i=1}^N w_i^Tx_i$ depending on how you like to write these things\n",
    "    - The dimensions will be $Z_{1x1} = W_{1xn}^TX_{nx1}+b_{1x1}$\n",
    "- The output $\\hat{y}$ will be the weighted sum passed through the activation function $sign(Z)$\n",
    "    - $\\hat{y} = sign(Z) = \\begin{cases}\n",
    "   > 0 & 1\\\\    \n",
    "   \\leq 0 & -1   \n",
    "\\end{cases}$\n",
    "- Perform a backward pass where we apply the perceptron learning rule to update the weights and bias\n",
    "    - $W_{n+1} = W_n + x_i\\eta(y_i-\\hat{y_i})$\n",
    "    - $b_{n+1} = b_n + (y_i-\\hat{y_i})$\n",
    "    - If the predicted output matches the desired output do nothing\n",
    "    - ex: ($\\eta$ = 0.1)\n",
    "        - $W_{n+1} = W_n + (x_i * 0.1(1-1)) = W_n + (x_i * 0.1 * 0) = W_n$\n",
    "        - $b_{n+1} = b_n + 0.1*(1-1) = b_n + (0.1*0) = b_n$\n",
    "    - If the predicted output differs from the desired output, update the weights using the perceptron learning rule\n",
    "    - ex: $W_{n+1} = W_n + (x_i * 0.1(1--1)) = W_n + (x_i * 0.1 * 2) = W_n + 0.2x_i$\n",
    "    - ex: $b_{n+1} = b_n + 0.1(1--1) = b_n + (0.1 * 2) = b_n + 0.2$\n",
    "- Repeat until convergence or max interations"
   ]
  },
  {
   "cell_type": "markdown",
   "id": "d6ab31ad",
   "metadata": {},
   "source": [
    "## Adaptive learning rate: Momentum\n",
    "\n",
    "Learning rates $\\eta$ are a crucial hyperparameter for successfully training perceptrons and neural networks. Choose too small of a learning rate and the model may not learn fast enough or at all. Too large of a learning rate leads to overshooting the minimum and exploding gradients. Adaptive learning rates handle this by starting with larger learning rates and then reducing the learning rate as the model improves.\n",
    "\n",
    "There are multiple ways to achieve this, but the one used in this notebook is defined as \n",
    "\n",
    "$$\\Delta W{ij}(n) = -\\eta \\sum_{\\psi = 0}^n \\alpha^{n-\\psi} \\frac{\\partial E(\\psi)}{\\partial W_{ij}(\\psi)} = \\eta \\sum_{\\psi = 0}^n \\alpha^{n-\\psi} \\delta_j(\\psi)y_i(\\psi) $$\n",
    "\n",
    "Where:\n",
    "- $\\eta$ is the learning rate\n",
    "- $\\alpha$ is the momentum term ($0 < \\alpha \\leq 1$ and usually something close to 1, in this notebook 0.99)\n",
    "- $\\psi$ is the previous weight update\n",
    "\n",
    "To make this work we need to keep the $\\psi$ previous weights. The equation above can seem daunting, so here we'll show a simpler version for $\\psi = 1$ and then $\\psi = 2$ and this should help clear up and questions.\n",
    "\n",
    "$\\delta_j(n)y_i(n)$ is the update for the weights\n",
    "- $\\delta_j(n)y_i(n) = \\frac{X}{n}(y-\\hat{y})$\n",
    "\n",
    "#### $\\psi = 1$\n",
    "$\\Delta W{ij}(n) = \\alpha \\Delta W{ij}(n-1) + \\eta\\delta_j(n)y_i(n)$\n",
    "\n",
    "We multiply the previous weights by the momentum term and then add the usual weight update to get our next weight $W_{n+1}$\n",
    "\n",
    "#### $\\psi = 2$\n",
    "$\\Delta W{ij}(n) = \\alpha (\\alpha \\Delta W{ij}(n-2) + \\Delta W{ij}(n-1)) + \\eta\\delta_j(n)y_i(n)) = \\alpha^2 \\Delta W{ij}(n-2) + \\alpha \\Delta W{ij}(n-1) + \\eta\\delta_j(n)y_i(n)$\n",
    "\n",
    "#### $\\psi = 3$\n",
    "$\\Delta W{ij}(n) = \\alpha (\\alpha^2 \\Delta W{ij}(n-3) + \\alpha \\Delta W{ij}(n-2) + \\alpha^2 \\Delta W{ij}(n-1)) + \\eta\\delta_j(n)y_i(n))$\n",
    "\n",
    "$\\Delta W{ij}(n) = \\alpha^3 \\Delta W{ij}(n-3) + \\alpha^2 \\Delta W{ij}(n-2) + \\alpha\\Delta W{ij}(n-1) + \\eta\\delta_j(n)y_i(n)$\n",
    "\n",
    "This should help clarify what's happening in the adaptive learning rate."
   ]
  },
  {
   "cell_type": "markdown",
   "id": "14c98ea4",
   "metadata": {},
   "source": [
    "## Notes\n",
    "### Notes on initializing weights and bias\n",
    "\n",
    "- There must be a weight for every input as well as a bias term\n",
    "- The bias term is simply an additional weight\n",
    "- There two ways this is typically done, this notebook will use the first approach\n",
    "\n",
    "First approach:\n",
    "- Create a weight for every input and store them in a column vector $W$\n",
    "- Create an additional weight $b$ and store it by itself\n",
    "- When multiplying the inputs by the weights simply add the bias as the end\n",
    "    - ex: $Z = W^TX+b$\n",
    "    \n",
    "Second approach:\n",
    "- Insert the value $1$ to the first input of $X$\n",
    "- This will be multiplied by the bias term and is the same concept as adding the bias term to $W^TX$\n",
    "    - ex: $X= [0.25, 0.3]$\n",
    "    - Insert a 1 into the first postition of $X$'s values so that the length of the dimensions of $X$ go from $n$ to $n+1$\n",
    "    - $X= [1, 0.25, 0.3]$\n",
    "    - Now when we compute $W^TX$ the first value of $W$ is the bias term and it is always multiplied by 1\n",
    "    - When we update the weights and bias we must be careful to update $b$ differently than $W$, which is why I prefer to keep the two separate\n",
    "    \n",
    "### Why do we need a bias term?\n",
    "\n",
    "Think of a graph of a line $y=mx+b$. This is what the perceptron is learning. If we only had $y=mx$ our plot would always cross the origin. By adding the $y$ intercept $b$ (or bias to use machine learning terms) we are able to move the plot off the origin if need be."
   ]
  },
  {
   "cell_type": "markdown",
   "id": "c650eb11",
   "metadata": {},
   "source": [
    "### Notes on vectorization\n",
    "\n",
    "Vectorization allows us to compute multiple things at once. It's faster than looping over each item in an array. This notebook makes use of it, and because of that the math shown above differs slightly from whats in the code, namely the backpropogation.\n",
    "\n",
    "Using a vectorized method to backpropogate and update the weights changes the math to the following:\n",
    "\n",
    "Passing a single observation (an image in this case) $x_i$ through the perceptron at a time:\n",
    "- $W_{n+1} = W_n + x_i\\eta(y_i-\\hat{y_i})$\n",
    "- $b_{n+1} = b_n + (y_i-\\hat{y_i})$\n",
    "\n",
    "Passing more than one observation through the perceptron at a time:\n",
    "- $W_{n+1} = W_n + \\frac{X}{n}\\eta(Y-\\hat{Y})$\n",
    "- $b_{n+1} = b_n + \\frac{1}{n}(Y-\\hat{Y})$\n",
    "- Where $n$ is the number of observations\n",
    "- Technically this notation is also correct for a single observation since $n$ would be $1$, but adding that step is unecessary because dividing by 1 adds nothing to output"
   ]
  },
  {
   "cell_type": "markdown",
   "id": "be897806",
   "metadata": {},
   "source": [
    "## Complexity\n",
    "\n",
    "The perceptron, if it converges, and it will not if the data is not linearly separable, is linear in both time and space complexity."
   ]
  },
  {
   "cell_type": "markdown",
   "id": "d80062e2",
   "metadata": {},
   "source": [
    "## Data\n",
    "\n",
    "This dataset is pretty common, it's possible to search for and download from many locations. This notebook uses the version found [here](https://www.kaggle.com/datasets/oddrationale/mnist-in-csv/) (https://www.kaggle.com/datasets/oddrationale/mnist-in-csv/)."
   ]
  },
  {
   "cell_type": "markdown",
   "id": "b8f7fbc4",
   "metadata": {},
   "source": [
    "## Classification Problem\n",
    "\n",
    "Design and train a single-layer perceptron that can detect the digit '0'. The perceptron should return +1 when the digit in the image is '0' and -1 otherwise. Train the perceptron with 5000 images available in 'train' and test the performance of your system by using the other variable, 'test', in the data file. "
   ]
  },
  {
   "cell_type": "code",
   "execution_count": 1,
   "id": "2bbe02d3",
   "metadata": {},
   "outputs": [],
   "source": [
    "import numpy as np\n",
    "import pandas as pd\n",
    "import matplotlib.pyplot as plt\n",
    "import matplotlib.image as img\n",
    "import matplotlib.cm as cm\n",
    "import copy\n",
    "np.random.seed(1)"
   ]
  },
  {
   "cell_type": "code",
   "execution_count": 20,
   "id": "5456b4b8",
   "metadata": {},
   "outputs": [],
   "source": [
    "training_data = pd.read_csv('mnist_train.csv')\n",
    "testing_data = pd.read_csv('mnist_test.csv')"
   ]
  },
  {
   "cell_type": "code",
   "execution_count": 24,
   "id": "0128c69e",
   "metadata": {},
   "outputs": [
    {
     "data": {
      "text/plain": [
       "((60000, 785), (10000, 785))"
      ]
     },
     "execution_count": 24,
     "metadata": {},
     "output_type": "execute_result"
    }
   ],
   "source": [
    "training_data.shape, testing_data.shape"
   ]
  },
  {
   "cell_type": "code",
   "execution_count": 25,
   "id": "237f2b74",
   "metadata": {},
   "outputs": [
    {
     "data": {
      "text/html": [
       "<div>\n",
       "<style scoped>\n",
       "    .dataframe tbody tr th:only-of-type {\n",
       "        vertical-align: middle;\n",
       "    }\n",
       "\n",
       "    .dataframe tbody tr th {\n",
       "        vertical-align: top;\n",
       "    }\n",
       "\n",
       "    .dataframe thead th {\n",
       "        text-align: right;\n",
       "    }\n",
       "</style>\n",
       "<table border=\"1\" class=\"dataframe\">\n",
       "  <thead>\n",
       "    <tr style=\"text-align: right;\">\n",
       "      <th></th>\n",
       "      <th>label</th>\n",
       "      <th>1x1</th>\n",
       "      <th>1x2</th>\n",
       "      <th>1x3</th>\n",
       "      <th>1x4</th>\n",
       "      <th>1x5</th>\n",
       "      <th>1x6</th>\n",
       "      <th>1x7</th>\n",
       "      <th>1x8</th>\n",
       "      <th>1x9</th>\n",
       "      <th>...</th>\n",
       "      <th>28x19</th>\n",
       "      <th>28x20</th>\n",
       "      <th>28x21</th>\n",
       "      <th>28x22</th>\n",
       "      <th>28x23</th>\n",
       "      <th>28x24</th>\n",
       "      <th>28x25</th>\n",
       "      <th>28x26</th>\n",
       "      <th>28x27</th>\n",
       "      <th>28x28</th>\n",
       "    </tr>\n",
       "  </thead>\n",
       "  <tbody>\n",
       "    <tr>\n",
       "      <th>0</th>\n",
       "      <td>5</td>\n",
       "      <td>0</td>\n",
       "      <td>0</td>\n",
       "      <td>0</td>\n",
       "      <td>0</td>\n",
       "      <td>0</td>\n",
       "      <td>0</td>\n",
       "      <td>0</td>\n",
       "      <td>0</td>\n",
       "      <td>0</td>\n",
       "      <td>...</td>\n",
       "      <td>0</td>\n",
       "      <td>0</td>\n",
       "      <td>0</td>\n",
       "      <td>0</td>\n",
       "      <td>0</td>\n",
       "      <td>0</td>\n",
       "      <td>0</td>\n",
       "      <td>0</td>\n",
       "      <td>0</td>\n",
       "      <td>0</td>\n",
       "    </tr>\n",
       "    <tr>\n",
       "      <th>1</th>\n",
       "      <td>0</td>\n",
       "      <td>0</td>\n",
       "      <td>0</td>\n",
       "      <td>0</td>\n",
       "      <td>0</td>\n",
       "      <td>0</td>\n",
       "      <td>0</td>\n",
       "      <td>0</td>\n",
       "      <td>0</td>\n",
       "      <td>0</td>\n",
       "      <td>...</td>\n",
       "      <td>0</td>\n",
       "      <td>0</td>\n",
       "      <td>0</td>\n",
       "      <td>0</td>\n",
       "      <td>0</td>\n",
       "      <td>0</td>\n",
       "      <td>0</td>\n",
       "      <td>0</td>\n",
       "      <td>0</td>\n",
       "      <td>0</td>\n",
       "    </tr>\n",
       "    <tr>\n",
       "      <th>2</th>\n",
       "      <td>4</td>\n",
       "      <td>0</td>\n",
       "      <td>0</td>\n",
       "      <td>0</td>\n",
       "      <td>0</td>\n",
       "      <td>0</td>\n",
       "      <td>0</td>\n",
       "      <td>0</td>\n",
       "      <td>0</td>\n",
       "      <td>0</td>\n",
       "      <td>...</td>\n",
       "      <td>0</td>\n",
       "      <td>0</td>\n",
       "      <td>0</td>\n",
       "      <td>0</td>\n",
       "      <td>0</td>\n",
       "      <td>0</td>\n",
       "      <td>0</td>\n",
       "      <td>0</td>\n",
       "      <td>0</td>\n",
       "      <td>0</td>\n",
       "    </tr>\n",
       "    <tr>\n",
       "      <th>3</th>\n",
       "      <td>1</td>\n",
       "      <td>0</td>\n",
       "      <td>0</td>\n",
       "      <td>0</td>\n",
       "      <td>0</td>\n",
       "      <td>0</td>\n",
       "      <td>0</td>\n",
       "      <td>0</td>\n",
       "      <td>0</td>\n",
       "      <td>0</td>\n",
       "      <td>...</td>\n",
       "      <td>0</td>\n",
       "      <td>0</td>\n",
       "      <td>0</td>\n",
       "      <td>0</td>\n",
       "      <td>0</td>\n",
       "      <td>0</td>\n",
       "      <td>0</td>\n",
       "      <td>0</td>\n",
       "      <td>0</td>\n",
       "      <td>0</td>\n",
       "    </tr>\n",
       "    <tr>\n",
       "      <th>4</th>\n",
       "      <td>9</td>\n",
       "      <td>0</td>\n",
       "      <td>0</td>\n",
       "      <td>0</td>\n",
       "      <td>0</td>\n",
       "      <td>0</td>\n",
       "      <td>0</td>\n",
       "      <td>0</td>\n",
       "      <td>0</td>\n",
       "      <td>0</td>\n",
       "      <td>...</td>\n",
       "      <td>0</td>\n",
       "      <td>0</td>\n",
       "      <td>0</td>\n",
       "      <td>0</td>\n",
       "      <td>0</td>\n",
       "      <td>0</td>\n",
       "      <td>0</td>\n",
       "      <td>0</td>\n",
       "      <td>0</td>\n",
       "      <td>0</td>\n",
       "    </tr>\n",
       "  </tbody>\n",
       "</table>\n",
       "<p>5 rows × 785 columns</p>\n",
       "</div>"
      ],
      "text/plain": [
       "   label  1x1  1x2  1x3  1x4  1x5  1x6  1x7  1x8  1x9  ...  28x19  28x20  \\\n",
       "0      5    0    0    0    0    0    0    0    0    0  ...      0      0   \n",
       "1      0    0    0    0    0    0    0    0    0    0  ...      0      0   \n",
       "2      4    0    0    0    0    0    0    0    0    0  ...      0      0   \n",
       "3      1    0    0    0    0    0    0    0    0    0  ...      0      0   \n",
       "4      9    0    0    0    0    0    0    0    0    0  ...      0      0   \n",
       "\n",
       "   28x21  28x22  28x23  28x24  28x25  28x26  28x27  28x28  \n",
       "0      0      0      0      0      0      0      0      0  \n",
       "1      0      0      0      0      0      0      0      0  \n",
       "2      0      0      0      0      0      0      0      0  \n",
       "3      0      0      0      0      0      0      0      0  \n",
       "4      0      0      0      0      0      0      0      0  \n",
       "\n",
       "[5 rows x 785 columns]"
      ]
     },
     "execution_count": 25,
     "metadata": {},
     "output_type": "execute_result"
    }
   ],
   "source": [
    "training_data.head()"
   ]
  },
  {
   "cell_type": "code",
   "execution_count": 28,
   "id": "7c5237cf",
   "metadata": {},
   "outputs": [],
   "source": [
    "# organize data\n",
    "# first column is the label\n",
    "train_data = training_data.iloc[:,1:].values\n",
    "test_data = testing_data.iloc[:,1:].values\n",
    "train_labels = training_data.iloc[:,0].values\n",
    "test_labels = testing_data.iloc[:,0].values"
   ]
  },
  {
   "cell_type": "code",
   "execution_count": 31,
   "id": "d29cbab0",
   "metadata": {},
   "outputs": [],
   "source": [
    "def show_nums(data, labels, num_img):\n",
    "    \"\"\"show random numbers from dataset\"\"\"\n",
    "    indices = np.random.choice(data.shape[0], num_img)\n",
    "    data = np.array(data.astype('float32')).reshape(data.shape[0], 28,28,1).swapaxes(-3,-2)\n",
    "    row, col = int(num_img/2), 2     \n",
    "    fig, axes = plt.subplots(row, col, figsize = (4,num_img))\n",
    "\n",
    "    i = 0\n",
    "    for r in range(row):\n",
    "        for c in range(col):\n",
    "            if i < num_img:\n",
    "                imgs_raw = data[indices[i]]\n",
    "                plt.subplot(row, col, i+1)\n",
    "                plt.imshow(imgs_raw, cmap=cm.Greys_r)\n",
    "                plt.title(np.squeeze(labels[indices[i]]))\n",
    "                i+=1\n",
    "    plt.tight_layout()\n",
    "    plt.show"
   ]
  },
  {
   "cell_type": "code",
   "execution_count": 32,
   "id": "59c070ad",
   "metadata": {},
   "outputs": [
    {
     "data": {
      "image/png": "[encoded data removed]",
      "text/plain": [
       "<Figure size 400x400 with 4 Axes>"
      ]
     },
     "metadata": {},
     "output_type": "display_data"
    }
   ],
   "source": [
    "show_nums(train_data, train_labels, 4)"
   ]
  },
  {
   "cell_type": "code",
   "execution_count": 8,
   "id": "0fb43033",
   "metadata": {},
   "outputs": [],
   "source": [
    "class Perceptron():\n",
    "    def __init__(self, x, y, **kwargs):\n",
    "        self.digit = kwargs.get(\"digit\", 0)\n",
    "        self.epochs = int(kwargs.get(\"epochs\", 1e2))\n",
    "        self.batch_size = kwargs.get(\"batch_size\", x.shape[0])\n",
    "        self.adaptive = kwargs.get('momentum', True)\n",
    "        self.x = x\n",
    "        self.y = np.where(y == self.digit, 1, -1)\n",
    "        self.w = np.random.random((self.x.shape[1], 1)) * 0.1\n",
    "        self.b = np.random.random() * 0.1\n",
    "        self.dw = {'n-1':np.zeros_like(self.w), 'n-2':np.zeros_like(self.w)}\n",
    "        self.db = {'n-1':np.zeros_like(self.b), 'n-2':np.zeros_like(self.b)}\n",
    "        self.train_error = []\n",
    "        self.alpha = 1\n",
    "        self.eta = 1e-2\n",
    "        self.momentum = 0.99\n",
    "        \n",
    "\n",
    "    def update_momentum(self, delta_w, delta_b):\n",
    "        \"\"\"adaptive learning rate\n",
    "        params\n",
    "            delta_w, delta_b: current weight changes\n",
    "        returns:\n",
    "            momentum: new momentum value\n",
    "        \"\"\"\n",
    "        w_2 = self.dw['n-1'].copy()\n",
    "        b_2 = self.db['n-1'].copy()\n",
    "        self.dw = {'n-1':delta_w, 'n-2':w_2}\n",
    "        self.db = {'n-1':delta_b, 'n-2':b_2}\n",
    "        \n",
    "    \n",
    "    def forward(self, **kwargs):\n",
    "        \"\"\"calculates forward prop\"\"\"\n",
    "\n",
    "        x = kwargs.get('x', self.x)\n",
    "        self.v = np.dot(x, self.w) + self.b\n",
    "        self.y_hat = np.where(self.v > 0, 1, -1)\n",
    "\n",
    "        \n",
    "    def backward(self, **kwargs):\n",
    "        \"\"\"backprop using perceptron learining rule\n",
    "        w(n+1) = w(n) + eta * (desired-predicted) * input\n",
    "        \"\"\"\n",
    "\n",
    "        x = kwargs.get('x', self.x)\n",
    "        y = kwargs.get('y', self.y)\n",
    "\n",
    "        obs = y.shape[0]\n",
    "        error = y - self.y_hat\n",
    "\n",
    "        delta_w = sum(error * x).reshape(-1,1) / obs\n",
    "        delta_b = sum(error) / obs\n",
    "        \n",
    "        if self.adaptive:\n",
    "            momentum_w = self.momentum * (self.momentum * self.dw['n-2'] + self.dw['n-1'])\n",
    "            momentum_b = self.momentum * (self.momentum * self.db['n-2'] + self.db['n-1'])\n",
    "            self.update_momentum(delta_w, delta_b)\n",
    "\n",
    "            self.w += self.eta * (delta_w + momentum_w)\n",
    "            self.b += self.eta * (delta_b + momentum_b)\n",
    "        else:\n",
    "            self.w += self.eta * delta_w\n",
    "            self.b += self.eta * delta_b\n",
    "\n",
    "            \n",
    "    def sd(self, **kwargs):\n",
    "        \"\"\"performs steepest descent optimization\"\"\"\n",
    "        \n",
    "        x = kwargs.get('x', self.x)\n",
    "        y = kwargs.get('y', self.y)\n",
    "        \n",
    "        self.forward(x = x)\n",
    "        self.backward(x = x, y = y)\n",
    "\n",
    "\n",
    "    def get_batches(self):\n",
    "        \"\"\"creates batches for training\n",
    "        returns shuffled data\n",
    "        \"\"\"\n",
    "        \n",
    "        xy = list(zip(self.x, self.y))\n",
    "        np.random.shuffle(xy)\n",
    "        x, y = zip(*xy)\n",
    "        x = np.array(x)\n",
    "        y = np.array(y)\n",
    "\n",
    "        return x,y\n",
    "        \n",
    "        \n",
    "    def fit(self):\n",
    "        \"\"\"adjusts weights for e epochs\n",
    "        alternates between making predictions and weight adjustment\n",
    "        \"\"\"\n",
    "\n",
    "        batches = self.x.shape[0] // self.batch_size\n",
    "        leftover = self.x.shape[0] % self.batch_size\n",
    "        x, y = self.get_batches()\n",
    "\n",
    "        for e in range(self.epochs):\n",
    "            start = 0\n",
    "            stop = self.batch_size\n",
    "            for i in range(batches):\n",
    "                self.sd(x = x[start:stop], \n",
    "                        y = y[start:stop])\n",
    "                self.train_error.append(self.e(x = x[start:stop], \n",
    "                                               y = y[start:stop]))\n",
    "                start += self.batch_size\n",
    "                stop += self.batch_size\n",
    "            if leftover != 0:\n",
    "                self.sd(x = x[-leftover:], \n",
    "                        y = y[-leftover:])\n",
    "                self.train_error.append(self.e(x = x[-leftover:], \n",
    "                                               y = y[-leftover:]))\n",
    "\n",
    "\n",
    "    def predict(self, **kwargs):\n",
    "        \"\"\"predits class based on output probability\"\"\"\n",
    "        \n",
    "        x = kwargs.get('x', self.x)\n",
    "        \n",
    "        self.forward(x = x)\n",
    "\n",
    "\n",
    "    def e(self, **kwargs):\n",
    "        \"\"\"computes error\n",
    "        per assignment this allows you to enter different digits for prediction using the \n",
    "        weights trained on another digit to compare performance\n",
    "        \"\"\"\n",
    "        \n",
    "        x = kwargs.get('x', self.x)\n",
    "        y = kwargs.get('y', self.y)\n",
    "        digit = kwargs.get('digit', self.digit)\n",
    "        \n",
    "        y = np.where(y == digit, 1, -1)\n",
    "            \n",
    "        return np.sum(np.square(y - self.y_hat)) / (2*len(y))\n"
   ]
  },
  {
   "cell_type": "markdown",
   "id": "28779ebc",
   "metadata": {},
   "source": [
    "### Helper functions"
   ]
  },
  {
   "cell_type": "code",
   "execution_count": 9,
   "id": "02567210",
   "metadata": {},
   "outputs": [],
   "source": [
    "def train_plot(p):\n",
    "    \"\"\"plots error ovr training epochs\n",
    "    params:\n",
    "        p: perceptrion instance\n",
    "    returns:\n",
    "        None: displays plot\n",
    "    \"\"\"\n",
    "    \n",
    "    plt.figure(figsize = (4,4))\n",
    "    plt.plot(p.train_error)\n",
    "    plt.title(f\"Training error for digit {p.digit}\")\n",
    "    plt.xlabel('Epochs')\n",
    "    plt.ylabel('MSE')\n",
    "    \n",
    "    return plt.show()"
   ]
  },
  {
   "cell_type": "markdown",
   "id": "968d6e5d",
   "metadata": {},
   "source": [
    "Create an instance of the perceptron class created above, train it and observe the results."
   ]
  },
  {
   "cell_type": "code",
   "execution_count": 10,
   "id": "299a4093",
   "metadata": {},
   "outputs": [],
   "source": [
    "p = Perceptron(train_data, \n",
    "               train_labels,\n",
    "               batch_size = 1000,\n",
    "               epochs = 1e2)\n",
    "\n",
    "p.fit()"
   ]
  },
  {
   "cell_type": "markdown",
   "id": "6b262e29",
   "metadata": {},
   "source": [
    "## Results"
   ]
  },
  {
   "cell_type": "code",
   "execution_count": 11,
   "id": "d0f56dc0",
   "metadata": {},
   "outputs": [
    {
     "data": {
      "image/png": "[encoded data removed]",
      "text/plain": [
       "<Figure size 400x400 with 1 Axes>"
      ]
     },
     "metadata": {},
     "output_type": "display_data"
    },
    {
     "name": "stdout",
     "output_type": "stream",
     "text": [
      "Training error after 100 iterations: 0.186\n",
      "Test set error: 0.04\n"
     ]
    },
    {
     "data": {
      "image/png": "[encoded data removed]",
      "text/plain": [
       "<Figure size 640x480 with 1 Axes>"
      ]
     },
     "metadata": {},
     "output_type": "display_data"
    }
   ],
   "source": [
    "train_plot(p)\n",
    "print(f\"Training error after {p.epochs} iterations: {p.train_error[-1]}\")\n",
    "p.predict(x = test_data)\n",
    "print(f\"Test set error: {p.e(x = test_data, y = test_labels)}\")\n",
    "\n",
    "plt.plot(p.train_error[:30])\n",
    "plt.title(\"First 30 epochs\")\n",
    "plt.xlabel('Epochs')\n",
    "plt.ylabel('MSE')\n",
    "plt.show()"
   ]
  },
  {
   "cell_type": "markdown",
   "id": "f23484f2",
   "metadata": {},
   "source": [
    "### Summary\n",
    "\n",
    "The perceptron was trained at a learning rate of 0.01 for 5000 epochs, using a momentum of 0.9 on the entire training set each epoch. We can see a steady reduction in error on the training set for first few epochs with a slight increase before settling in to the final training error at 0.186. Running the test set through the model returned an error of 0.04, significantly lower than the training error.\n",
    "\n",
    "On interesting note, the plot of the training error shows a drop then an increase before it eventually levels out. The dip starts around the 7th epoch. When early stopping was used, the training error is 0.1, which seems much better than the outcome after 5000 epochs, however, the test set error was 0.14. Training the model longer results in a higher training error, but a lower test error."
   ]
  },
  {
   "cell_type": "markdown",
   "id": "bc7d9991",
   "metadata": {},
   "source": [
    "### Some predictions visualized\n",
    "\n",
    "We can see that the model correctly labeled 1 true zero. The model correctly classified the remaining digits in this subset as non zero (-1)."
   ]
  },
  {
   "cell_type": "code",
   "execution_count": 17,
   "id": "d75e8d49",
   "metadata": {},
   "outputs": [
    {
     "data": {
      "image/png": "[encoded data removed]",
      "text/plain": [
       "<Figure size 400x1000 with 10 Axes>"
      ]
     },
     "metadata": {},
     "output_type": "display_data"
    }
   ],
   "source": [
    "show_nums(test_data, p.y_hat, 10)"
   ]
  },
  {
   "cell_type": "markdown",
   "id": "76e351db",
   "metadata": {},
   "source": [
    "We can see a few zeros correctly classified. If you're running this notebook you may need to rerun the cell above several times to see some zeros displayed."
   ]
  },
  {
   "cell_type": "code",
   "execution_count": 18,
   "id": "63ff4c44",
   "metadata": {},
   "outputs": [
    {
     "data": {
      "image/png": "[encoded data removed]",
      "text/plain": [
       "<Figure size 400x800 with 8 Axes>"
      ]
     },
     "metadata": {},
     "output_type": "display_data"
    }
   ],
   "source": [
    "# incorrect predictions\n",
    "wrongs = []\n",
    "for i, y in enumerate(test_labels):\n",
    "    if np.where(y == 0, 1, -1) != p.y_hat[i]:\n",
    "        wrongs.append(i)\n",
    "\n",
    "show_nums(test_data[wrongs], p.y_hat[wrongs], 8)"
   ]
  },
  {
   "cell_type": "markdown",
   "id": "7b251cb1",
   "metadata": {},
   "source": [
    "Above we can see some incorrect predictions. In this small sample the model missed some zeros and incorrectly predicted zero for other digits. The model seems struggle with the number 6 when it is written sloppy."
   ]
  },
  {
   "cell_type": "markdown",
   "id": "78982ce6",
   "metadata": {},
   "source": [
    "#### *A look at the image of the weights ‘w’ which is a 28 x 28 variable vector*"
   ]
  },
  {
   "cell_type": "code",
   "execution_count": 19,
   "id": "e5d01852",
   "metadata": {},
   "outputs": [
    {
     "data": {
      "image/png": "[encoded data removed]",
      "text/plain": [
       "<Figure size 300x300 with 1 Axes>"
      ]
     },
     "metadata": {},
     "output_type": "display_data"
    }
   ],
   "source": [
    "img_w = p.w.reshape(28,28,1).swapaxes(-3,-2)\n",
    "plt.figure(figsize = (3,3))\n",
    "plt.imshow(img_w, cmap = cm.Greys_r)\n",
    "plt.title(f\"Weights for digit {p.digit}\")\n",
    "plt.show()"
   ]
  },
  {
   "cell_type": "markdown",
   "id": "2d726ad3",
   "metadata": {},
   "source": [
    "We can see our weight vector, when reshaped to the size of an image, somewhat resembles what it was trying to predict, a '0'."
   ]
  },
  {
   "cell_type": "markdown",
   "id": "cfcd0ee3",
   "metadata": {},
   "source": [
    "#### *We'll repeat this experiment, but this time try to detect the other digits with our weights for '0'.*\n",
    "\n",
    "We aren't expecting this to work, but it will be interesting to see if it does better on digits that somewhat resemble '0', such as '6'."
   ]
  },
  {
   "cell_type": "code",
   "execution_count": 20,
   "id": "cd75221e",
   "metadata": {},
   "outputs": [
    {
     "name": "stdout",
     "output_type": "stream",
     "text": [
      "Test set accuracy predicting other digits while using weights learned for digit 0\n",
      "\n",
      "Digit\tTest set accuracy\n",
      "0\t0.04\n",
      "1\t0.422\n",
      "2\t0.394\n",
      "3\t0.38\n",
      "4\t0.386\n",
      "5\t0.34\n",
      "6\t0.328\n",
      "7\t0.368\n",
      "8\t0.348\n",
      "9\t0.354\n"
     ]
    }
   ],
   "source": [
    "print(\"Test set accuracy predicting other digits while using weights learned for digit 0\\n\")\n",
    "print(\"Digit\\tTest set accuracy\")\n",
    "\n",
    "for i in range(10):\n",
    "    e = p.e(y = test_labels, digit = i)\n",
    "    print(f\"{i}\\t{e}\")"
   ]
  },
  {
   "cell_type": "markdown",
   "id": "2e18703b",
   "metadata": {},
   "source": [
    "### Summary\n",
    "\n",
    "When trying to predict digits other than the one the weights were trained for we see a dramatic increase in error. The digits 1 and 2 had the two highest error rates, likely because they have little in common as far as similar features to the digit 0. On that note, 6 had the lowest error rate of the digits classified using the weights for digit 0. This seems reasonable as the number 6 has a similar shape characteristics to the number 0, such as an oval outer shape.\n",
    "\n",
    "The weights for any given perceptron are trained based on the supervised feedback for the desired output. Attempting to use the weights for another classification task may not work well if the two categories are not sufficiently similar. However, it appears that when similarities are shared the weights for one classification may be a good starting point for training weights on another category.\n",
    "\n",
    "---"
   ]
  },
  {
   "cell_type": "code",
   "execution_count": null,
   "id": "c425651c",
   "metadata": {},
   "outputs": [],
   "source": []
  }
 ],
 "metadata": {
  "kernelspec": {
   "display_name": "Python 3 (ipykernel)",
   "language": "python",
   "name": "python3"
  },
  "language_info": {
   "codemirror_mode": {
    "name": "ipython",
    "version": 3
   },
   "file_extension": ".py",
   "mimetype": "text/x-python",
   "name": "python",
   "nbconvert_exporter": "python",
   "pygments_lexer": "ipython3",
   "version": "3.11.1"
  }
 },
 "nbformat": 4,
 "nbformat_minor": 5
}
